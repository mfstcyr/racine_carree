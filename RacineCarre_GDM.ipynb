{
 "cells": [
  {
   "cell_type": "markdown",
   "id": "3c516f51",
   "metadata": {},
   "source": [
    "# Algorithme de la racine carrée\n",
    "\n",
    "Ce programme est la suite d'une réflexion que j'ai eu dans le cadre d'une activité avec le groupe TEMA dans laquelle nous avons réfléchie sur l'algorithme de la racine carrée telle que proposée par Théon d'Alexandrie. Après avoir analysé cet algorithme, j'ai tenté de l'implémenter. Cette implémentation a fait émerger plusieurs autres questionnements dont certains que je tenterai de mettre en lumière. \n",
    "\n",
    "Dans ce notebook, je présente une version \"propre\" du travail que j'ai fait en m'appuyant sur une présentation faite au GDM avec Mireille Saboya et Eva Knoll."
   ]
  },
  {
   "cell_type": "code",
   "execution_count": 4,
   "id": "38ea21dd",
   "metadata": {},
   "outputs": [],
   "source": [
    "from math import *"
   ]
  },
  {
   "cell_type": "code",
   "execution_count": 5,
   "id": "a2b7af61",
   "metadata": {},
   "outputs": [
    {
     "name": "stdout",
     "output_type": "stream",
     "text": [
      "choisir un nombre entier positif supérieur à 0 et je retournerai la racine carré de ce nombre: 122345\n"
     ]
    }
   ],
   "source": [
    "n=input(\"choisir un nombre entier positif supérieur à 0 et je retournerai la racine carré de ce nombre: \")\n",
    "\n",
    "racine_temporaire=0 #la valeur finale de la racine sera enregistrée ici (initialisation)\n",
    "n_rempli=0 #portion du carré déjà considéré (initialisation)\n",
    "reste=0"
   ]
  },
  {
   "cell_type": "markdown",
   "id": "1a58948a",
   "metadata": {},
   "source": [
    "### Déterminer le nombre de chiffres de la racine carrée\n",
    "\n",
    "Pour détailler les réflexions, je m'appuierai sur l'exemple du calcul de la racine carrée du nombre 62 331 025.\n",
    "\n",
    "Lorsque nous calculons la racine carrée à la main, nous commençions par faire des paquets de deux avec le nombre.\n",
    "\n",
    "$$ 62'33'1 0'25 $$\n",
    "\n",
    "Nous faisions ces paquets de deux puisqu'un nombre au carré peut au maximum être égal à 81 (9*9). Or, en faisant ces paquets de deux, on pouvait aussi déterminer le nombre de chiffres que contiendra notre solution (si elle est entière ou si on arrondi à une réponse entière). \n",
    "\n",
    "J'ai donc repris cette idée pour l'implémentation pour savoir combien de chiffres il y aurait dans la solution. Toutefois dans l'algorithme informatique, il a aussi fallu tenir compte de la parité du nombre de chiffres de la solution. Par exemple, si $n=12'34'56$ et si $n=1'23'45$, il est nécessaire que le nombre de paquets de deux soit égale à trois (comme si pour le second nombre il y avait un zéro au début $n=01'23'45$)."
   ]
  },
  {
   "cell_type": "code",
   "execution_count": 9,
   "id": "e16a23c9",
   "metadata": {},
   "outputs": [],
   "source": [
    "#longueur du nombre choisi\n",
    "longueur_n=len(n) \n",
    "\n",
    "#nombre de paquets de deux chiffres dans le nombre (donc le nomre de chiffres de la racine)\n",
    "paquets_deux=int(ceil(longueur_n/2))"
   ]
  },
  {
   "cell_type": "markdown",
   "id": "3d7c34f9",
   "metadata": {},
   "source": [
    "### Déterminer la racine carrée\n",
    "\n",
    "Pour calculer la racine carrée avec l'algorithme papier-crayon, nous commençions par déterminer le premier nombre en se posant la question: Quel nombre entier multiplié par lui-même s'approche le plus possible de 62 331 025 sans le dépasser?\n",
    "\n",
    "<img src='https://drive.google.com/uc?id=1QOfRalS8UtlBGr8iSDh4Yw2w3a-zQAUN'>\n",
    "\n",
    "Ainsi, quand on cherche la racine carrée d'un nombre, c'est comme si on cherchait le côté d'un carré dont l'aire est ce nombre.\n",
    "\n",
    "<img src='https://drive.google.com/uc?id=1ILQJo7gLVBzgghc9u6giuLCiY6Jgwo_W'>\n",
    "\n",
    "Lorsque j'ai voulu implémenter l'algorithme, j'ai d'abord dû trouver une manière de tester systématiquement les nombres. J'ai donc choisi de commencer par 9 (qui est le chiffre le plus grand qui puisse être utilisé). Ensuite, je teste 8, 7, ... jusqu'à ce que le carré soit inférieur. Or, je devais avoir un nombre de comparaison qui est le nombre entré initialement (celui dont on veut la racine). Par conséquent, j'ai utilisé le nombre de chiffre de mon nombre pour savoir que je cherchais le premier chiffre à gauche (qui représente les unités de mille dans cet exemple).\n",
    "\n",
    "\n",
    "<img src='https://drive.google.com/uc?id=1YlvUXr44Itdte1gvC3zTymjTSR45vG_B'>\n",
    "\n",
    "\n",
    "Par la suite, pour déterminer les nombres suivants avec papier-crayon, nous tentions de compléter le carré pour s'approcher le plus possible du nombre initial.\n",
    "\n",
    "\n",
    "<img src='https://drive.google.com/uc?id=10eFsMLi5IajBEb_dCxXFHrNAYOAZGfw1'>\n",
    "\n",
    "Pour l'implémentation cette stratégie m'apparaissait plus complexe, alors j'ai opté pour continuer de comparer avec mon nombre initial à chaque fois en me recréant un carré avec de nouvelles dimensions. (Je n'avais plus à me soucier que ce soit facile à calculer mentalement!)\n",
    "\n",
    "<img src='https://drive.google.com/uc?id=1tA4qdxCFzxW7tEBA_UxOcX9ZDveA3jD9'>\n"
   ]
  },
  {
   "cell_type": "code",
   "execution_count": 7,
   "id": "f16ec500",
   "metadata": {},
   "outputs": [
    {
     "name": "stdout",
     "output_type": "stream",
     "text": [
      "349.77850134\n"
     ]
    }
   ],
   "source": [
    "racine=0 #la valeur finale de la racine sera enregistrée ici (initialisation)\n",
    "\n",
    "for i in range (paquets_deux-1, -10, -1): #je termine à -10 pour avoir 10 décimales (ce nombres pourrait changer)\n",
    "    \n",
    "    for j in range (9, -1, -1):\n",
    "        \n",
    "        racine_temporaire = (racine + j * (10 ** i))\n",
    "        \n",
    "        if i < 0:\n",
    "            racine_temporaire = round (racine_temporaire, abs(i))\n",
    "        \n",
    "        #print(racine_temporaire)\n",
    "        carre = (racine_temporaire) ** 2\n",
    "        \n",
    "        if float(carre) <= float(n):\n",
    "            break\n",
    "    \n",
    "    racine = racine + j * 10 ** i\n",
    "    \n",
    "    if i < 0:\n",
    "        racine = round (racine, abs(i))\n",
    "    \n",
    "print(racine)"
   ]
  }
 ],
 "metadata": {
  "kernelspec": {
   "display_name": "Python 3 (ipykernel)",
   "language": "python",
   "name": "python3"
  },
  "language_info": {
   "codemirror_mode": {
    "name": "ipython",
    "version": 3
   },
   "file_extension": ".py",
   "mimetype": "text/x-python",
   "name": "python",
   "nbconvert_exporter": "python",
   "pygments_lexer": "ipython3",
   "version": "3.9.13"
  }
 },
 "nbformat": 4,
 "nbformat_minor": 5
}
